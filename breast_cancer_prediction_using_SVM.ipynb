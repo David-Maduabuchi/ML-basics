{
 "cells": [
  {
   "cell_type": "code",
   "execution_count": 75,
   "id": "a5af723e",
   "metadata": {},
   "outputs": [],
   "source": [
    "# SO basically SVM works by mapping data to a high-dimensional feature space so that data points\n",
    "# can be categorized even when the data are not linearly separable (this gets done by kernel function of SVM classifier).\n",
    "#  A separator between the categories is found, then the data is transformed in such a way\n",
    "# that the separator could be drawn as a hyper plane."
   ]
  },
  {
   "cell_type": "code",
   "execution_count": 76,
   "id": "c3641c8f",
   "metadata": {},
   "outputs": [],
   "source": [
    "import pandas as pd\n",
    "import numpy as np\n",
    "import matplotlib.pyplot as plt"
   ]
  },
  {
   "cell_type": "code",
   "execution_count": 77,
   "id": "07171de6",
   "metadata": {},
   "outputs": [
    {
     "data": {
      "text/html": [
       "<div>\n",
       "<style scoped>\n",
       "    .dataframe tbody tr th:only-of-type {\n",
       "        vertical-align: middle;\n",
       "    }\n",
       "\n",
       "    .dataframe tbody tr th {\n",
       "        vertical-align: top;\n",
       "    }\n",
       "\n",
       "    .dataframe thead th {\n",
       "        text-align: right;\n",
       "    }\n",
       "</style>\n",
       "<table border=\"1\" class=\"dataframe\">\n",
       "  <thead>\n",
       "    <tr style=\"text-align: right;\">\n",
       "      <th></th>\n",
       "      <th>ID</th>\n",
       "      <th>Clump</th>\n",
       "      <th>UnifSize</th>\n",
       "      <th>UnifShape</th>\n",
       "      <th>MargAdh</th>\n",
       "      <th>SingEpiSize</th>\n",
       "      <th>BareNuc</th>\n",
       "      <th>BlandChrom</th>\n",
       "      <th>NormNucl</th>\n",
       "      <th>Mit</th>\n",
       "      <th>Class</th>\n",
       "    </tr>\n",
       "  </thead>\n",
       "  <tbody>\n",
       "    <tr>\n",
       "      <th>0</th>\n",
       "      <td>1000025</td>\n",
       "      <td>5</td>\n",
       "      <td>1</td>\n",
       "      <td>1</td>\n",
       "      <td>1</td>\n",
       "      <td>2</td>\n",
       "      <td>1</td>\n",
       "      <td>3</td>\n",
       "      <td>1</td>\n",
       "      <td>1</td>\n",
       "      <td>2</td>\n",
       "    </tr>\n",
       "    <tr>\n",
       "      <th>1</th>\n",
       "      <td>1002945</td>\n",
       "      <td>5</td>\n",
       "      <td>4</td>\n",
       "      <td>4</td>\n",
       "      <td>5</td>\n",
       "      <td>7</td>\n",
       "      <td>10</td>\n",
       "      <td>3</td>\n",
       "      <td>2</td>\n",
       "      <td>1</td>\n",
       "      <td>2</td>\n",
       "    </tr>\n",
       "    <tr>\n",
       "      <th>2</th>\n",
       "      <td>1015425</td>\n",
       "      <td>3</td>\n",
       "      <td>1</td>\n",
       "      <td>1</td>\n",
       "      <td>1</td>\n",
       "      <td>2</td>\n",
       "      <td>2</td>\n",
       "      <td>3</td>\n",
       "      <td>1</td>\n",
       "      <td>1</td>\n",
       "      <td>2</td>\n",
       "    </tr>\n",
       "    <tr>\n",
       "      <th>3</th>\n",
       "      <td>1016277</td>\n",
       "      <td>6</td>\n",
       "      <td>8</td>\n",
       "      <td>8</td>\n",
       "      <td>1</td>\n",
       "      <td>3</td>\n",
       "      <td>4</td>\n",
       "      <td>3</td>\n",
       "      <td>7</td>\n",
       "      <td>1</td>\n",
       "      <td>2</td>\n",
       "    </tr>\n",
       "    <tr>\n",
       "      <th>4</th>\n",
       "      <td>1017023</td>\n",
       "      <td>4</td>\n",
       "      <td>1</td>\n",
       "      <td>1</td>\n",
       "      <td>3</td>\n",
       "      <td>2</td>\n",
       "      <td>1</td>\n",
       "      <td>3</td>\n",
       "      <td>1</td>\n",
       "      <td>1</td>\n",
       "      <td>2</td>\n",
       "    </tr>\n",
       "  </tbody>\n",
       "</table>\n",
       "</div>"
      ],
      "text/plain": [
       "        ID  Clump  UnifSize  UnifShape  MargAdh  SingEpiSize BareNuc  \\\n",
       "0  1000025      5         1          1        1            2       1   \n",
       "1  1002945      5         4          4        5            7      10   \n",
       "2  1015425      3         1          1        1            2       2   \n",
       "3  1016277      6         8          8        1            3       4   \n",
       "4  1017023      4         1          1        3            2       1   \n",
       "\n",
       "   BlandChrom  NormNucl  Mit  Class  \n",
       "0           3         1    1      2  \n",
       "1           3         2    1      2  \n",
       "2           3         1    1      2  \n",
       "3           3         7    1      2  \n",
       "4           3         1    1      2  "
      ]
     },
     "execution_count": 77,
     "metadata": {},
     "output_type": "execute_result"
    }
   ],
   "source": [
    "cell_df = pd.read_csv(\"cell_samples.csv\")\n",
    "cell_df.head()  # print me the first five\n",
    "cell_df.shape  # in rows, columns\n",
    "cell_df.size  # in bytes\n",
    "cell_df.count()\n",
    "cell_df[\"Class\"]\n",
    "cell_df.head()"
   ]
  },
  {
   "cell_type": "code",
   "execution_count": 78,
   "id": "258fcd04",
   "metadata": {},
   "outputs": [
    {
     "data": {
      "text/plain": [
       "<Axes: xlabel='Clump', ylabel='UnifSize'>"
      ]
     },
     "execution_count": 78,
     "metadata": {},
     "output_type": "execute_result"
    },
    {
     "data": {
      "image/png": "[encoded data removed]",
      "text/plain": [
       "<Figure size 640x480 with 1 Axes>"
      ]
     },
     "metadata": {},
     "output_type": "display_data"
    }
   ],
   "source": [
    "# we are going to chhose those rows which belong to the malignant dataframe only\n",
    "malignant_df = cell_df[cell_df[\"Class\"] == 4][0:200]\n",
    "beningn_df = cell_df[cell_df[\"Class\"] == 2][0:200]\n",
    "\n",
    "# help(beningn_df.plot)\n",
    "axes = beningn_df.plot(\n",
    "    kind=\"scatter\", x=\"Clump\", y=\"UnifSize\", color=\"blue\", label=\"Benign\"\n",
    ")\n",
    "\n",
    "malignant_df.plot(\n",
    "    kind=\"scatter\", x=\"Clump\", y=\"UnifSize\", color=\"red\", label=\"Malignant\", ax=axes\n",
    ")\n",
    "\n",
    "\n",
    "# beningn_df.plot(kind=\"scatter\", x=\"Clump\", y=\"UnifSize\", color=\"green\", label=\"Benign\")"
   ]
  },
  {
   "cell_type": "code",
   "execution_count": 79,
   "id": "a3b62bce",
   "metadata": {},
   "outputs": [
    {
     "data": {
      "text/plain": [
       "array([2, 2, 2, 2, 2])"
      ]
     },
     "execution_count": 79,
     "metadata": {},
     "output_type": "execute_result"
    }
   ],
   "source": [
    "# Identifying unwanted rows\n",
    "cell_df.dtypes\n",
    "# We need to remove non numeric data\n",
    "# First we will convert it to numeric, the BareNuc\n",
    "cell_df = cell_df[pd.to_numeric(cell_df[\"BareNuc\"], errors=\"coerce\").notnull()]\n",
    "cell_df[\"BareNuc\"] = cell_df[\"BareNuc\"].astype(\"int\")\n",
    "cell_df.columns\n",
    "\n",
    "\n",
    "feature_df = cell_df[\n",
    "    [\n",
    "        \"Clump\",\n",
    "        \"UnifSize\",\n",
    "        \"UnifShape\",\n",
    "        \"MargAdh\",\n",
    "        \"SingEpiSize\",\n",
    "        \"BareNuc\",\n",
    "        \"BlandChrom\",\n",
    "        \"NormNucl\",\n",
    "        \"Mit\",\n",
    "    ]\n",
    "]\n",
    "\n",
    "# Next, we convert this data to numpy array\n",
    "# cell_df 100 rows and 11 columns\n",
    "# Picked 9 columns out of 11.\n",
    "\n",
    "# independent variable\n",
    "x = np.asarray(feature_df)\n",
    "\n",
    "# dependent variable\n",
    "y = np.array(cell_df[\"Class\"])\n",
    "\n",
    "y[0:5]"
   ]
  },
  {
   "cell_type": "code",
   "execution_count": 80,
   "id": "950e6e62",
   "metadata": {},
   "outputs": [],
   "source": [
    "# dicide the data into training and testing\n",
    "from sklearn.model_selection import train_test_split\n",
    "\n",
    "x_train, x_test, y_train, y_test = train_test_split(x, y, test_size=0.2, random_state=4)\n"
   ]
  },
  {
   "cell_type": "code",
   "execution_count": 81,
   "id": "56069aab",
   "metadata": {},
   "outputs": [],
   "source": [
    "# Modelling (SVM with scikitlearn)\n",
    "# The svm algorithm offers a choice of kernekl functions for performing its processing. Basically mapping data into a higher dimensionoal space is called kernelling. The mathematical function used for the transformatiion is known as the kernel functiion and can be ofn different types, such as: \n",
    "# 1. Linear\n",
    "# 2. Polynomial\n",
    "# 3. Radial Basis Function (RBF)\n",
    "# 4. Sigmol\n",
    "\n",
    "# Each of these functiions has its characteristics, its pros and cons, and its equation, but there's no easy way of knowing which function performs best with any given dataset, we usualy choose different functions inn turn and compare the results. Let us just use the default, the RBF(Radius and Basis Function) for this lab."
   ]
  },
  {
   "cell_type": "code",
   "execution_count": 82,
   "id": "d5c89066",
   "metadata": {},
   "outputs": [],
   "source": [
    "from sklearn import svm\n",
    "\n",
    "classifier=svm.SVC(kernel=\"linear\", gamma=\"auto\", C=2)\n",
    "# The C denotes the penalty that we impose on the learnning model  when it incorrrectly identifies a point. herer it is 2 units of penalty 2 * no of wrongly identified points\n",
    "\n",
    "classifier.fit(x_train, y_train)\n",
    "y_predict = classifier.predict(x_test)"
   ]
  },
  {
   "cell_type": "code",
   "execution_count": 83,
   "id": "5bd2d626",
   "metadata": {},
   "outputs": [
    {
     "name": "stdout",
     "output_type": "stream",
     "text": [
      "              precision    recall  f1-score   support\n",
      "\n",
      "           2       1.00      0.94      0.97        90\n",
      "           4       0.90      1.00      0.95        47\n",
      "\n",
      "    accuracy                           0.96       137\n",
      "   macro avg       0.95      0.97      0.96       137\n",
      "weighted avg       0.97      0.96      0.96       137\n",
      "\n"
     ]
    }
   ],
   "source": [
    "# Evaluating our model\n",
    "from sklearn.metrics import classification_report\n",
    "print(classification_report(y_test, y_predict))"
   ]
  }
 ],
 "metadata": {
  "kernelspec": {
   "display_name": "Python 3",
   "language": "python",
   "name": "python3"
  },
  "language_info": {
   "codemirror_mode": {
    "name": "ipython",
    "version": 3
   },
   "file_extension": ".py",
   "mimetype": "text/x-python",
   "name": "python",
   "nbconvert_exporter": "python",
   "pygments_lexer": "ipython3",
   "version": "3.13.5"
  }
 },
 "nbformat": 4,
 "nbformat_minor": 5
}
